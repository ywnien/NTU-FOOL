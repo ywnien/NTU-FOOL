{
 "cells": [
  {
   "cell_type": "markdown",
   "metadata": {},
   "source": [
    "# NTUFool\n",
    "### Python程式設計 Final Project\n",
    "### 爬取NTUCool上的課程內容，並且再寫成簡單的html來檢視課程資訊。\n",
    "\n",
    "- 期末到了，伺服器爆了，幸好我提前載下來了\n",
    "- 可以不用每次要重新登入看Cool的內容了 (雖然最近比較少被要求重新登入)\n",
    "- Cool的載入速度跟不上我的手速\n",
    "- 講義幫你放好，桌面不會亂糟糟"
   ]
  },
  {
   "cell_type": "code",
   "execution_count": 1,
   "metadata": {},
   "outputs": [],
   "source": [
    "import pprint\n",
    "\n",
    "from NTU.cool import Cool, Fool\n",
    "\n",
    "pp = pprint.PrettyPrinter(indent=1)"
   ]
  },
  {
   "cell_type": "markdown",
   "metadata": {},
   "source": [
    "## 更動\n",
    "- 現在不需要主動呼叫初始化了\n",
    "- `Fool.semester`將會指向`Cool.semester`，兩者將會同步\n",
    "- 編碼統一為 UTF8，Windows也能用了"
   ]
  },
  {
   "cell_type": "markdown",
   "metadata": {},
   "source": [
    "## Cool\n",
    "```python\n",
    "from NTU.cool import Cool\n",
    "\n",
    "Cool(semester=None, student_id=student_id, password=password)\n",
    "```\n",
    "\n",
    "Cool()這個物件建立的時候會自動登入 NTUCool，並且讀取所有的課程內容 (`Cool.courses`)。\n",
    "\n",
    "若沒有任何 arguments，則指派當前學期為 `Cool.semester`，從 `json/config.json`讀取學號密碼"
   ]
  },
  {
   "cell_type": "code",
   "execution_count": 2,
   "metadata": {},
   "outputs": [],
   "source": [
    "c = Cool()"
   ]
  },
  {
   "cell_type": "markdown",
   "metadata": {},
   "source": [
    "### 更換其他學期\n",
    "`Cool.set_semester(semester: str)`\n",
    "\n",
    "如果 `semester` 有缺漏，會自動搜尋符合的學期"
   ]
  },
  {
   "cell_type": "code",
   "execution_count": 3,
   "metadata": {},
   "outputs": [
    {
     "name": "stdout",
     "output_type": "stream",
     "text": [
      "目前學期: 110-1\n",
      "目前學期: 109-1\n",
      "109-1 | 109-2\n",
      "目前學期: 109-1\n"
     ]
    }
   ],
   "source": [
    "print(f'目前學期: {c.semester}')\n",
    "c.set_semester('109-1')\n",
    "print(f'目前學期: {c.semester}')\n",
    "c.set_semester('109') # 會自動搜尋可用的學期\n",
    "print(f'目前學期: {c.semester}')"
   ]
  },
  {
   "cell_type": "markdown",
   "metadata": {},
   "source": [
    "## 所有課程\n",
    "**讀取**: `Cool.courses`, `Cool.read_courses()`\n",
    "\n",
    "**更新**: `Cool.get_courses()`\n",
    "\n",
    "**尋找**: `Cool.search_course(search: str)`"
   ]
  },
  {
   "cell_type": "code",
   "execution_count": 5,
   "metadata": {},
   "outputs": [
    {
     "name": "stdout",
     "output_type": "stream",
     "text": [
      "{'108-2': {'同步輻射相關研究 Introduction to Synchrotron Radiation Related Research': '/courses/2196',\n",
      "           '普通物理學甲下 General Physics (a)(2)': '/courses/1920',\n",
      "           '有機化學二 Organic Chemistry (Ⅱ)': '/courses/1266'},\n",
      " '109-1': {'無機化學一 Inorganic Chemistry (Ⅰ)': '/courses/3815'},\n",
      " '109-2': {'資料結構與演算法 Data Structures and Algorithms': '/courses/4621'},\n",
      " '110-1': {'PYTHON及其應用 Python and Its Applications': '/courses/10233',\n",
      "           'Python程式設計 Computer Programming in Python': '/courses/9546',\n",
      "           '分析化學一 Analytical Chemistry (Ⅰ)': '/courses/9461',\n",
      "           '無機化學一 Inorganic Chemistry (Ⅰ)': '/courses/10350',\n",
      "           '田園生活體驗二 Hand-on Experience of Field Life (Ⅱ)': '/courses/9128',\n",
      "           '蔬菜學 Olericulture': '/courses/9469',\n",
      "           '食品與健康 Food and Health': '/courses/8615'}}\n"
     ]
    }
   ],
   "source": [
    "# Cool.get_courses() 會自動將爬下的內容存到 json/courses.json\n",
    "# 也會把存進去的 dict return 出來\n",
    "# 但是只要讀取的話用 c.courses 或 c.read_courses() 就好，比較快\n",
    "out = c.get_courses()\n",
    "pp.pprint(out)"
   ]
  },
  {
   "cell_type": "code",
   "execution_count": 15,
   "metadata": {},
   "outputs": [
    {
     "name": "stdout",
     "output_type": "stream",
     "text": [
      "分析化學一 Analytical Chemistry (Ⅰ) | 無機化學一 Inorganic Chemistry (Ⅰ)\n",
      "No result. Please search again!\n",
      "\n",
      "No result. Please search again!\n",
      "\n",
      "田園生活體驗二 Hand-on Experience of Field Life (Ⅱ) | 食品與健康 Food and Health | 無機化學一 Inorganic Chemistry (Ⅰ) | PYTHON及其應用 Python and Its Applications\n",
      "No result. Please search again!\n",
      "\n",
      "食品與健康 Food and Health\n"
     ]
    }
   ],
   "source": [
    "# 搜尋該學期的課程\n",
    "name = c.search_course('化學')\n",
    "\n",
    "# 如果不只一個結果，將會繼續搜尋\n",
    "# 英文大小寫有差別\n",
    "\n",
    "print(name)"
   ]
  },
  {
   "cell_type": "code",
   "execution_count": null,
   "metadata": {},
   "outputs": [],
   "source": [
    "# 這將會獲取新的課程內容，並且物件內的屬性 c.courses 也會同步更新\n",
    "c.new_semester()"
   ]
  },
  {
   "cell_type": "markdown",
   "metadata": {},
   "source": [
    "## 課程內容 (modules)\n",
    "\n",
    "讀取: `Cool.read_modules(course_name: str)`\n",
    "\n",
    "爬特定課程: `Cool.get_modules(course_name: str)`\n",
    "\n",
    "儲存: `Cool.save_modules(modules: dict, course_name: str)`\n",
    "\n",
    "下載附件: `Cool.download(course_name: str)`\n",
    "\n",
    "更新該學期所有課程內容: `Cool.update()`\n",
    "\n",
    "*(`course_name` 一樣會自動搜尋符合的課程，打錯沒關係)*"
   ]
  },
  {
   "cell_type": "code",
   "execution_count": 6,
   "metadata": {},
   "outputs": [
    {
     "name": "stdout",
     "output_type": "stream",
     "text": [
      "Scraping modules of 分析化學一 Analytical Chemistry (Ⅰ)... Done\n",
      "Scraping modules of 田園生活體驗二 Hand-on Experience of Field Life (Ⅱ)... Done\n",
      "Scraping modules of 食品與健康 Food and Health... Done\n",
      "Scraping modules of 無機化學一 Inorganic Chemistry (Ⅰ)... Done\n",
      "Scraping modules of 蔬菜學 Olericulture... Done\n",
      "Scraping modules of PYTHON及其應用 Python and Its Applications... Done\n",
      "Scraping modules of Python程式設計 Computer Programming in Python... Done\n"
     ]
    }
   ],
   "source": [
    "c.set_semester('110-1') # 指定該學期\n",
    "\n",
    "c.update()"
   ]
  },
  {
   "cell_type": "code",
   "execution_count": null,
   "metadata": {},
   "outputs": [],
   "source": [
    "# 更新單一課程\n",
    "course_name = c.search_course('設計')\n",
    "c.get_modules(course_name)"
   ]
  },
  {
   "cell_type": "code",
   "execution_count": null,
   "metadata": {},
   "outputs": [],
   "source": [
    "# 更新所有學期的課程\n",
    "# c.semesters 是一個含有所有學期的 list\n",
    "for semester in c.semesters:\n",
    "    c.set_semester(semester)\n",
    "    c.update()"
   ]
  },
  {
   "cell_type": "code",
   "execution_count": 30,
   "metadata": {},
   "outputs": [
    {
     "name": "stdout",
     "output_type": "stream",
     "text": [
      "No result. Please search again!\n",
      "\n",
      "Download HW1 Answer: DSA2021_hw1.pdf?\n",
      "[Y] Yes [A] Yes to all [N] No [C] Cancel\n",
      "Download W18 - Software Engineering Extra: Paper prototyping.pdf?\n",
      "[Y] Yes [A] Yes to all [N] No [C] Cancel\n",
      "Download W17 - Final Exam: 0615 final exam info.pdf?\n",
      "[Y] Yes [A] Yes to all [N] No [C] Cancel\n",
      "Download W16 - B Tree: Slides: btree.pptx?\n",
      "[Y] Yes [A] Yes to all [N] No [C] Cancel\n",
      "Download W15 - Graph: Slides: graph.pptx?\n",
      "[Y] Yes [A] Yes to all [N] No [C] Cancel\n",
      "Download W14 extra - The most beautiful code I have never wrote (quicksort time analysis): (do NOT download please; online reading only) the most beautiful code I never wrote.pdf?\n",
      "[Y] Yes [A] Yes to all [N] No [C] Cancel\n",
      "Download W14 - Red Black Tree: Slides: rbtree.pptx?\n",
      "[Y] Yes [A] Yes to all [N] No [C] Cancel\n",
      "Download W13 - Hashing: Slides: hashing.pptx?\n",
      "[Y] Yes [A] Yes to all [N] No [C] Cancel\n",
      "Download W12- Disjoint Sets: Slides: disjoint set.pptx?\n",
      "[Y] Yes [A] Yes to all [N] No [C] Cancel\n",
      "Download W11 - Linear-Time Sorting: Slides: sorting_linear.pptx?\n",
      "[Y] Yes [A] Yes to all [N] No [C] Cancel\n",
      "Download W10 - String Matching: Slides: string matching.pptx?\n",
      "[Y] Yes [A] Yes to all [N] No [C] Cancel\n",
      "Download W8 - Heap / Binary Search Tree / Sorting: 0413_heap.handout.pdf?\n",
      "[Y] Yes [A] Yes to all [N] No [C] Cancel\n",
      "Download W6 - Tree / Max-Tree: 0330_tree.handout.pdf?\n",
      "[Y] Yes [A] Yes to all [N] No [C] Cancel\n",
      "Download W5 - Stack / Queue: 0323_stack.handout.pdf?\n",
      "[Y] Yes [A] Yes to all [N] No [C] Cancel\n",
      "Download W4 - Analysis Tools / Stack: 0316_complexity.handout.pdf?\n",
      "[Y] Yes [A] Yes to all [N] No [C] Cancel\n",
      "Download W3 -  Linked List & Performance Analysis: class0309_llist.handout.pdf?\n",
      "[Y] Yes [A] Yes to all [N] No [C] Cancel\n",
      "Download W2 - Motivation of DSA & Array: class0302_dsa.handout.pdf?\n",
      "[Y] Yes [A] Yes to all [N] No [C] Cancel\n",
      "Download W1 - Course Introduction & Motivation of DSA: class0223_intro.handout.pdf?\n",
      "[Y] Yes [A] Yes to all [N] No [C] Cancel\n",
      "Download 置頂: DSA 2021 final exam problem sheet final version v9.pdf?\n",
      "[Y] Yes [A] Yes to all [N] No [C] Cancel\n"
     ]
    }
   ],
   "source": [
    "# 下載附件\n",
    "c.download('程式設計')"
   ]
  },
  {
   "cell_type": "markdown",
   "metadata": {},
   "source": [
    "## Fool\n"
   ]
  },
  {
   "cell_type": "code",
   "execution_count": 6,
   "metadata": {},
   "outputs": [
    {
     "name": "stdout",
     "output_type": "stream",
     "text": [
      "109-1\n",
      "109-1\n",
      "109-2\n",
      "109-2\n"
     ]
    }
   ],
   "source": [
    "f = Fool(c)\n",
    "\n",
    "# Cool, Fool 的學期會同步\n",
    "c.set_semester('109-1')\n",
    "print(c.semester)\n",
    "print(f.semester)\n",
    "\n",
    "f.set_semester('109-2')\n",
    "print(c.semester)\n",
    "print(f.semester)"
   ]
  },
  {
   "cell_type": "code",
   "execution_count": null,
   "metadata": {},
   "outputs": [],
   "source": [
    "# 可以更改導航列的語言\n",
    "f.set_nav_lang('zh')"
   ]
  },
  {
   "cell_type": "code",
   "execution_count": 32,
   "metadata": {},
   "outputs": [],
   "source": [
    "f.set_semester('110-1')\n",
    "\n",
    "f.nav_update() # 當有課程更動導致導航內容需要更新時呼叫\n",
    "f.build() # 匯出網頁"
   ]
  },
  {
   "cell_type": "code",
   "execution_count": 6,
   "metadata": {},
   "outputs": [],
   "source": [
    "c.close()"
   ]
  }
 ],
 "metadata": {
  "interpreter": {
   "hash": "767d51c1340bd893661ea55ea3124f6de3c7a262a8b4abca0554b478b1e2ff90"
  },
  "kernelspec": {
   "display_name": "Python 3.8.10 64-bit",
   "language": "python",
   "name": "python3"
  },
  "language_info": {
   "codemirror_mode": {
    "name": "ipython",
    "version": 3
   },
   "file_extension": ".py",
   "mimetype": "text/x-python",
   "name": "python",
   "nbconvert_exporter": "python",
   "pygments_lexer": "ipython3",
   "version": "3.8.10"
  },
  "orig_nbformat": 4
 },
 "nbformat": 4,
 "nbformat_minor": 2
}
