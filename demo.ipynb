{
 "cells": [
  {
   "cell_type": "markdown",
   "metadata": {},
   "source": [
    "# NTUFool\n",
    "### Python程式設計 Final Project\n",
    "### 爬取NTUCool上的課程內容，並且再寫成簡單的html來檢視課程資訊。\n",
    "\n",
    "- 期末到了，伺服器爆了，幸好我提前載下來了\n",
    "- 可以不用每次要重新登入看Cool的內容了 (雖然最近比較少被要求重新登入)\n",
    "- Cool的載入速度跟不上我的手速\n",
    "- 講義幫你放好，桌面不會亂糟糟"
   ]
  },
  {
   "cell_type": "code",
   "execution_count": 1,
   "metadata": {},
   "outputs": [],
   "source": [
    "import pprint\n",
    "\n",
    "from NTU.config import initialize\n",
    "from NTU.cool import Cool, Fool\n",
    "\n",
    "pp = pprint.PrettyPrinter(indent=1)"
   ]
  },
  {
   "cell_type": "markdown",
   "metadata": {},
   "source": [
    "## 初始化\n",
    "設定: **學號** **密碼** **檔案路徑**"
   ]
  },
  {
   "cell_type": "code",
   "execution_count": 3,
   "metadata": {},
   "outputs": [],
   "source": [
    "initialize()"
   ]
  },
  {
   "cell_type": "markdown",
   "metadata": {},
   "source": [
    "## Cool\n",
    "```python\n",
    "from NTU.cool import Cool\n",
    "\n",
    "Cool(semester=None, student_id=student_id, password=password)\n",
    "```\n",
    "\n",
    "Cool()這個物件建立的時候會自動登入 NTUCool，並且讀取所有的課程內容 (`Cool.courses`)。\n",
    "\n",
    "若沒有任何 arguments，則指派當前學期為 `Cool.semester`，從 `json/config.json`讀取學號密碼\n",
    "\n",
    "### 可以用文脈管理器的方式使用，確保登入階段關閉。\n",
    "\n",
    "```python\n",
    "with Cool() as c:\n",
    "    # do something\n",
    "```"
   ]
  },
  {
   "cell_type": "code",
   "execution_count": 2,
   "metadata": {},
   "outputs": [],
   "source": [
    "c = Cool()"
   ]
  },
  {
   "cell_type": "markdown",
   "metadata": {},
   "source": [
    "### 更換其他學期\n",
    "`Cool.set_semester(semester: str)`\n",
    "\n",
    "如果 `semester` 有缺漏，會自動搜尋符合的學期"
   ]
  },
  {
   "cell_type": "code",
   "execution_count": 11,
   "metadata": {},
   "outputs": [
    {
     "name": "stdout",
     "output_type": "stream",
     "text": [
      "目前學期: 109-1\n",
      "目前學期: 109-1\n",
      "109-1 109-2 \n",
      "\n",
      "目前學期: 109-2\n"
     ]
    }
   ],
   "source": [
    "print(f'目前學期: {c.semester}')\n",
    "c.set_semester('109-1')\n",
    "print(f'目前學期: {c.semester}')\n",
    "c.set_semester('109') # 會自動搜尋可用的學期\n",
    "print(f'目前學期: {c.semester}')"
   ]
  },
  {
   "cell_type": "markdown",
   "metadata": {},
   "source": [
    "## 所有課程\n",
    "**讀取**: `Cool.courses`, `Cool.read_courses()`\n",
    "\n",
    "**更新**: `Cool.get_courses()`\n",
    "\n",
    "**尋找**: `Cool.search_course(search: str)`"
   ]
  },
  {
   "cell_type": "code",
   "execution_count": 5,
   "metadata": {},
   "outputs": [
    {
     "name": "stdout",
     "output_type": "stream",
     "text": [
      "c.courses == c.read_courses() -> True\n",
      "{'108-2': {'同步輻射相關研究 Introduction to Synchrotron Radiation Related Research': '/courses/2196',\n",
      "           '普通物理學甲下 General Physics (a)(2)': '/courses/1920',\n",
      "           '有機化學二 Organic Chemistry (Ⅱ)': '/courses/1266'},\n",
      " '109-1': {'無機化學一 Inorganic Chemistry (Ⅰ)': '/courses/3815'},\n",
      " '109-2': {'資料結構與演算法 Data Structures and Algorithms': '/courses/4621'},\n",
      " '110-1': {'PYTHON及其應用 Python and Its Applications': '/courses/10233',\n",
      "           'Python程式設計 Computer Programming in Python': '/courses/9546',\n",
      "           '分析化學一 Analytical Chemistry (Ⅰ)': '/courses/9461',\n",
      "           '無機化學一 Inorganic Chemistry (Ⅰ)': '/courses/10350',\n",
      "           '田園生活體驗二 Hand-on Experience of Field Life (Ⅱ)': '/courses/9128',\n",
      "           '蔬菜學 Olericulture': '/courses/9469',\n",
      "           '食品與健康 Food and Health': '/courses/8615'}}\n"
     ]
    }
   ],
   "source": [
    "print(\n",
    "    f'c.courses == c.read_courses() ->',\n",
    "    f'{c.courses == c.read_courses()}'\n",
    ")\n",
    "\n",
    "pp.pprint(c.courses)"
   ]
  },
  {
   "cell_type": "code",
   "execution_count": 3,
   "metadata": {},
   "outputs": [
    {
     "name": "stdout",
     "output_type": "stream",
     "text": [
      "{'108-2': {'同步輻射相關研究 Introduction to Synchrotron Radiation Related Research': '/courses/2196',\n",
      "           '普通物理學甲下 General Physics (a)(2)': '/courses/1920',\n",
      "           '有機化學二 Organic Chemistry (Ⅱ)': '/courses/1266'},\n",
      " '109-1': {'無機化學一 Inorganic Chemistry (Ⅰ)': '/courses/3815'},\n",
      " '109-2': {'資料結構與演算法 Data Structures and Algorithms': '/courses/4621'},\n",
      " '110-1': {'PYTHON及其應用 Python and Its Applications': '/courses/10233',\n",
      "           'Python程式設計 Computer Programming in Python': '/courses/9546',\n",
      "           '分析化學一 Analytical Chemistry (Ⅰ)': '/courses/9461',\n",
      "           '無機化學一 Inorganic Chemistry (Ⅰ)': '/courses/10350',\n",
      "           '田園生活體驗二 Hand-on Experience of Field Life (Ⅱ)': '/courses/9128',\n",
      "           '蔬菜學 Olericulture': '/courses/9469',\n",
      "           '食品與健康 Food and Health': '/courses/8615'}}\n"
     ]
    }
   ],
   "source": [
    "# Cool.get_courses() 會自動將爬下的內容存到 json/courses.json\n",
    "# 也會把存進去的 dict return 出來\n",
    "# 但是只要讀取的話用 c.courses 或 c.read_courses() 就好，比較快\n",
    "out = c.get_courses()\n",
    "pp.pprint(out)"
   ]
  },
  {
   "cell_type": "code",
   "execution_count": 17,
   "metadata": {},
   "outputs": [
    {
     "name": "stdout",
     "output_type": "stream",
     "text": [
      "分析化學一 Analytical Chemistry (Ⅰ) 無機化學一 Inorganic Chemistry (Ⅰ) \n",
      "\n",
      "無機化學一 Inorganic Chemistry (Ⅰ)\n"
     ]
    }
   ],
   "source": [
    "# 搜尋該學期的課程\n",
    "name = c.search_course('化學')\n",
    "\n",
    "# 如果不只一個結果，將會繼續搜尋\n",
    "# 英文大小寫有差別\n",
    "\n",
    "print(name)"
   ]
  },
  {
   "cell_type": "markdown",
   "metadata": {},
   "source": [
    "## 課程內容 (modules)\n",
    "\n",
    "讀取: `Cool.read_modules(course_name: str)`\n",
    "\n",
    "爬特定課程: `Cool.get_modules(course_name: str)`\n",
    "\n",
    "儲存: `Cool.save_modules(modules: dict, course_name: str)`\n",
    "\n",
    "下載附件: `Cool.download(course_name: str)`\n",
    "\n",
    "更新該學期所有課程內容: `Cool.update()`\n",
    "\n",
    "*(`course_name` 一樣會自動搜尋符合的課程，打錯沒關係)*"
   ]
  },
  {
   "cell_type": "code",
   "execution_count": 2,
   "metadata": {},
   "outputs": [
    {
     "name": "stdout",
     "output_type": "stream",
     "text": [
      "Scraping modules of 分析化學一 Analytical Chemistry (Ⅰ)... Done\n",
      "Scraping modules of 田園生活體驗二 Hand-on Experience of Field Life (Ⅱ)... Done\n",
      "Scraping modules of 食品與健康 Food and Health... Done\n",
      "Scraping modules of 無機化學一 Inorganic Chemistry (Ⅰ)... Done\n",
      "Scraping modules of 蔬菜學 Olericulture... Done\n",
      "Scraping modules of PYTHON及其應用 Python and Its Applications... Done\n",
      "Scraping modules of Python程式設計 Computer Programming in Python... Done\n"
     ]
    }
   ],
   "source": [
    "c.set_semester('110-1')\n",
    "\n",
    "c.update()"
   ]
  },
  {
   "cell_type": "code",
   "execution_count": null,
   "metadata": {},
   "outputs": [],
   "source": [
    "# 更新單一課程\n",
    "course_name = c.search_course('設計')\n",
    "c.get_modules(course_name)"
   ]
  },
  {
   "cell_type": "code",
   "execution_count": null,
   "metadata": {},
   "outputs": [],
   "source": [
    "# 更新所有課程\n",
    "for semester in c.semesters:\n",
    "    c.set_semester(semester)\n",
    "    c.update()"
   ]
  },
  {
   "cell_type": "code",
   "execution_count": null,
   "metadata": {},
   "outputs": [],
   "source": [
    "# 讀取 modules\n",
    "modules = c.read_modules('程式設計')\n",
    "pp.pprint(modules)"
   ]
  },
  {
   "cell_type": "code",
   "execution_count": null,
   "metadata": {},
   "outputs": [],
   "source": [
    "del modules['Week 0']\n",
    "\n",
    "c.save_modules(modules, '程式設計')\n",
    "new_mod = c.read_modules('程式設計')\n",
    "pp.pprint(new_mod)"
   ]
  },
  {
   "cell_type": "code",
   "execution_count": null,
   "metadata": {},
   "outputs": [],
   "source": [
    "# 下載附件\n",
    "c.download('程式設計')"
   ]
  },
  {
   "cell_type": "markdown",
   "metadata": {},
   "source": [
    "## Fool\n"
   ]
  },
  {
   "cell_type": "code",
   "execution_count": 4,
   "metadata": {},
   "outputs": [
    {
     "name": "stdout",
     "output_type": "stream",
     "text": [
      "110-1\n",
      "109-1\n"
     ]
    }
   ],
   "source": [
    "f = Fool(c)\n",
    "\n",
    "f.set_nav_lang('zh')\n",
    "\n",
    "print(f.semester)\n",
    "f.set_semester('109-1')\n",
    "print(f.semester)"
   ]
  },
  {
   "cell_type": "code",
   "execution_count": 1,
   "metadata": {},
   "outputs": [],
   "source": [
    "from NTU.cool import Cool, Fool\n",
    "\n",
    "c = Cool()\n",
    "f = Fool(c)"
   ]
  },
  {
   "cell_type": "code",
   "execution_count": 4,
   "metadata": {},
   "outputs": [],
   "source": [
    "f.set_semester('110-1')\n",
    "\n",
    "f.nav_update()\n",
    "f.build()"
   ]
  },
  {
   "cell_type": "code",
   "execution_count": 6,
   "metadata": {},
   "outputs": [],
   "source": [
    "c.close()"
   ]
  }
 ],
 "metadata": {
  "interpreter": {
   "hash": "767d51c1340bd893661ea55ea3124f6de3c7a262a8b4abca0554b478b1e2ff90"
  },
  "kernelspec": {
   "display_name": "Python 3.8.10 64-bit",
   "language": "python",
   "name": "python3"
  },
  "language_info": {
   "codemirror_mode": {
    "name": "ipython",
    "version": 3
   },
   "file_extension": ".py",
   "mimetype": "text/x-python",
   "name": "python",
   "nbconvert_exporter": "python",
   "pygments_lexer": "ipython3",
   "version": "3.8.10"
  },
  "orig_nbformat": 4
 },
 "nbformat": 4,
 "nbformat_minor": 2
}
